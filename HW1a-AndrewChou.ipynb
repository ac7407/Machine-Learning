{
 "cells": [
  {
   "cell_type": "markdown",
   "id": "19dace10",
   "metadata": {},
   "source": [
    "# Homework 1A\n",
    "\n",
    "## Andrew Chou"
   ]
  },
  {
   "cell_type": "code",
   "execution_count": 1,
   "id": "c76765f5",
   "metadata": {},
   "outputs": [
    {
     "name": "stdout",
     "output_type": "stream",
     "text": [
      "Collecting scikit-learn\n",
      "  Using cached scikit_learn-1.2.1-cp310-cp310-manylinux_2_17_x86_64.manylinux2014_x86_64.whl (9.6 MB)\n",
      "Collecting threadpoolctl>=2.0.0\n",
      "  Using cached threadpoolctl-3.1.0-py3-none-any.whl (14 kB)\n",
      "Requirement already satisfied: numpy>=1.17.3 in /opt/conda/lib/python3.10/site-packages (from scikit-learn) (1.24.1)\n",
      "Collecting joblib>=1.1.1\n",
      "  Using cached joblib-1.2.0-py3-none-any.whl (297 kB)\n",
      "Requirement already satisfied: scipy>=1.3.2 in /opt/conda/lib/python3.10/site-packages (from scikit-learn) (1.10.0)\n",
      "Installing collected packages: threadpoolctl, joblib, scikit-learn\n",
      "Successfully installed joblib-1.2.0 scikit-learn-1.2.1 threadpoolctl-3.1.0\n",
      "Note: you may need to restart the kernel to use updated packages.\n"
     ]
    }
   ],
   "source": [
    "pip install scikit-learn"
   ]
  },
  {
   "cell_type": "code",
   "execution_count": 2,
   "id": "2e4a1029",
   "metadata": {},
   "outputs": [
    {
     "data": {
      "image/png": "[encoded data removed]",
      "text/plain": [
       "<Figure size 640x480 with 1 Axes>"
      ]
     },
     "metadata": {},
     "output_type": "display_data"
    },
    {
     "name": "stdout",
     "output_type": "stream",
     "text": [
      "Life satisfaction for USA based on linear model:  [8.51113359]\n"
     ]
    }
   ],
   "source": [
    "# import modules\n",
    "import matplotlib.pyplot as plt\n",
    "import numpy as np\n",
    "import pandas as pd\n",
    "from sklearn.linear_model import LinearRegression\n",
    "\n",
    "# download and read data\n",
    "data_root = \"https://github.com/ageron/data/raw/main/\"\n",
    "life_sat = pd.read_csv(data_root + \"lifesat/lifesat.csv\")\n",
    "x = life_sat[\"GDP per capita (USD)\"].values\n",
    "y = life_sat[\"Life satisfaction\"].values\n",
    "\n",
    "# visualize data\n",
    "life_sat.plot(kind='scatter', grid=True,\n",
    "             x=\"GDP per capita (USD)\", y=\"Life satisfaction\")\n",
    "plt.axis([23500, 62500, 4, 9])\n",
    "plt.text(40000, 8.5, \"Life satisfaction vs. GDP\", fontsize=15, color='blue')\n",
    "plt.show()\n",
    "\n",
    "# select linear regression model\n",
    "model = LinearRegression()\n",
    "\n",
    "# train model\n",
    "x = x.reshape(-1, 1)\n",
    "model.fit(x, y)\n",
    "\n",
    "# predict life satisfaction for USA (GDP = 70,248.63)\n",
    "x_new = [[70248.63]]\n",
    "print(\"Life satisfaction for USA based on linear model: \", model.predict(x_new))"
   ]
  },
  {
   "cell_type": "code",
   "execution_count": 3,
   "id": "ed4144ac",
   "metadata": {},
   "outputs": [
    {
     "name": "stdout",
     "output_type": "stream",
     "text": [
      "Life satisfaction for USA based on 5-nearest neighbors regression:  [7.3]\n"
     ]
    }
   ],
   "source": [
    "# Use k-nearest neighbors regression instead of linear regression\n",
    "from sklearn.neighbors import KNeighborsRegressor\n",
    "\n",
    "# k = 5\n",
    "model = KNeighborsRegressor(n_neighbors=5)\n",
    "\n",
    "# train model\n",
    "model.fit(x, y)\n",
    "\n",
    "# predict life satisfaction for USA (GDP = 70,248.63)\n",
    "x_new = [[70248.63]]\n",
    "print(\"Life satisfaction for USA based on 5-nearest neighbors regression: \", model.predict(x_new))\n"
   ]
  },
  {
   "cell_type": "markdown",
   "id": "74507a13",
   "metadata": {},
   "source": [
    "# Summary of Matplotlib, Numpy, and Pandas (5 key functions explored/learned)\n",
    "- Matplotlib\n",
    "    - plt.axis() sets min/max values of x and y axes to user-specified values\n",
    "    - plt.lines.Line2D() creates lines in which specific properties such as line width and dash style can be picked\n",
    "    - plt.subplot() creates multiple plots by specifying number of rows and columns in figure and index, can also aid in different modes of data visualization (i.e. polar, 3D, etc.)\n",
    "    - plt.text() adds text to any location on graph\n",
    "    - plt.annotate() allows user to indicate any specified point on graph\n",
    "- Numpy\n",
    "    - np.linspace() returns evenly spaced points over a specified interval\n",
    "    - np.array() initializes array with user-specified values\n",
    "    - np.random.rand() creates a matrix of uniformly distributed random floats between 0 and 1 \n",
    "    - np.random.randn() creates a matrix of gaussian distributed random floats of mean 0 and variance 1\n",
    "    - np.arange() creates an orderly array in ascending/descending order\n",
    "- Pandas\n",
    "    - pd.Series() creates a 1D array, similar to a column in a spreadsheet and has similar behavior to Numpy arrays\n",
    "    - pd.date_range() creates a time series \n",
    "    - pd.DataFrame() creates a dataframe, a spreadsheet representation \n",
    "    - pd.merge() merges dataframes or series\n",
    "    - pd.pivot_table() creates a pivot table as a dataframe "
   ]
  },
  {
   "cell_type": "code",
   "execution_count": null,
   "id": "51d98841",
   "metadata": {},
   "outputs": [],
   "source": []
  }
 ],
 "metadata": {
  "kernelspec": {
   "display_name": "Python 3 (ipykernel)",
   "language": "python",
   "name": "python3"
  },
  "language_info": {
   "codemirror_mode": {
    "name": "ipython",
    "version": 3
   },
   "file_extension": ".py",
   "mimetype": "text/x-python",
   "name": "python",
   "nbconvert_exporter": "python",
   "pygments_lexer": "ipython3",
   "version": "3.10.6"
  }
 },
 "nbformat": 4,
 "nbformat_minor": 5
}
