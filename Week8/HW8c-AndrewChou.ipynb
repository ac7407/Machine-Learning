{
 "cells": [
  {
   "attachments": {},
   "cell_type": "markdown",
   "metadata": {},
   "source": [
    "# Based on what you learned in task 2, to train a neural network model on the BBBP dataset used in HW5 by using Morgan fingerprints as input features and accuracy as the performance measure.   Please do similar explorations as what you did for task 2,  summarize what you have learned from this experiment, and discuss what are similar or different from what you observed in Task 2.  Please  compare your results of you optimal NN model (accuracy) with your optimal random forest model that have been developed in HW5."
   ]
  },
  {
   "cell_type": "code",
   "execution_count": 1,
   "metadata": {},
   "outputs": [
    {
     "name": "stdout",
     "output_type": "stream",
     "text": [
      "Defaulting to user installation because normal site-packages is not writeable\n",
      "Requirement already satisfied: scikit-learn in /home/ac7407/.local/lib/python3.8/site-packages (1.2.2)\n",
      "Requirement already satisfied: scipy>=1.3.2 in /share/apps/python/3.8.6/intel/lib/python3.8/site-packages/scipy-1.5.2-py3.8-linux-x86_64.egg (from scikit-learn) (1.5.2)\n",
      "Requirement already satisfied: threadpoolctl>=2.0.0 in /home/ac7407/.local/lib/python3.8/site-packages (from scikit-learn) (3.1.0)\n",
      "Requirement already satisfied: numpy>=1.17.3 in /share/apps/python/3.8.6/intel/lib/python3.8/site-packages/numpy-1.19.2-py3.8-linux-x86_64.egg (from scikit-learn) (1.19.2)\n",
      "Requirement already satisfied: joblib>=1.1.1 in /home/ac7407/.local/lib/python3.8/site-packages (from scikit-learn) (1.2.0)\n",
      "\u001b[33mWARNING: You are using pip version 20.2.3; however, version 23.0.1 is available.\n",
      "You should consider upgrading via the '/share/apps/python/3.8.6/intel/bin/python -m pip install --upgrade pip' command.\u001b[0m\n",
      "Defaulting to user installation because normal site-packages is not writeable\n",
      "Requirement already satisfied: rdkit-pypi in /home/ac7407/.local/lib/python3.8/site-packages (2022.9.5)\n",
      "Requirement already satisfied: numpy in /share/apps/python/3.8.6/intel/lib/python3.8/site-packages/numpy-1.19.2-py3.8-linux-x86_64.egg (from rdkit-pypi) (1.19.2)\n",
      "Requirement already satisfied: Pillow in /share/apps/python/3.8.6/intel/lib/python3.8/site-packages (from rdkit-pypi) (8.0.1)\n",
      "\u001b[33mWARNING: You are using pip version 20.2.3; however, version 23.0.1 is available.\n",
      "You should consider upgrading via the '/share/apps/python/3.8.6/intel/bin/python -m pip install --upgrade pip' command.\u001b[0m\n"
     ]
    }
   ],
   "source": [
    "!pip install scikit-learn\n",
    "!pip install rdkit-pypi"
   ]
  },
  {
   "cell_type": "code",
   "execution_count": 2,
   "metadata": {},
   "outputs": [],
   "source": [
    "# import modules\n",
    "import pandas as pd\n",
    "import numpy as np\n",
    "import matplotlib.pyplot as plt\n",
    "from rdkit.Chem import AllChem\n",
    "from rdkit import Chem\n",
    "from rdkit.Chem import Descriptors\n",
    "from rdkit.ML.Descriptors import MoleculeDescriptors"
   ]
  },
  {
   "cell_type": "code",
   "execution_count": 3,
   "metadata": {},
   "outputs": [
    {
     "data": {
      "text/html": [
       "<div>\n",
       "<style scoped>\n",
       "    .dataframe tbody tr th:only-of-type {\n",
       "        vertical-align: middle;\n",
       "    }\n",
       "\n",
       "    .dataframe tbody tr th {\n",
       "        vertical-align: top;\n",
       "    }\n",
       "\n",
       "    .dataframe thead th {\n",
       "        text-align: right;\n",
       "    }\n",
       "</style>\n",
       "<table border=\"1\" class=\"dataframe\">\n",
       "  <thead>\n",
       "    <tr style=\"text-align: right;\">\n",
       "      <th></th>\n",
       "      <th>num</th>\n",
       "      <th>name</th>\n",
       "      <th>p_np</th>\n",
       "      <th>smiles</th>\n",
       "    </tr>\n",
       "  </thead>\n",
       "  <tbody>\n",
       "    <tr>\n",
       "      <th>0</th>\n",
       "      <td>1</td>\n",
       "      <td>Propanolol</td>\n",
       "      <td>1</td>\n",
       "      <td>[Cl].CC(C)NCC(O)COc1cccc2ccccc12</td>\n",
       "    </tr>\n",
       "    <tr>\n",
       "      <th>1</th>\n",
       "      <td>2</td>\n",
       "      <td>Terbutylchlorambucil</td>\n",
       "      <td>1</td>\n",
       "      <td>C(=O)(OC(C)(C)C)CCCc1ccc(cc1)N(CCCl)CCCl</td>\n",
       "    </tr>\n",
       "    <tr>\n",
       "      <th>2</th>\n",
       "      <td>3</td>\n",
       "      <td>40730</td>\n",
       "      <td>1</td>\n",
       "      <td>c12c3c(N4CCN(C)CC4)c(F)cc1c(c(C(O)=O)cn2C(C)CO...</td>\n",
       "    </tr>\n",
       "    <tr>\n",
       "      <th>3</th>\n",
       "      <td>4</td>\n",
       "      <td>24</td>\n",
       "      <td>1</td>\n",
       "      <td>C1CCN(CC1)Cc1cccc(c1)OCCCNC(=O)C</td>\n",
       "    </tr>\n",
       "    <tr>\n",
       "      <th>4</th>\n",
       "      <td>5</td>\n",
       "      <td>cloxacillin</td>\n",
       "      <td>1</td>\n",
       "      <td>Cc1onc(c2ccccc2Cl)c1C(=O)N[C@H]3[C@H]4SC(C)(C)...</td>\n",
       "    </tr>\n",
       "  </tbody>\n",
       "</table>\n",
       "</div>"
      ],
      "text/plain": [
       "   num                  name  p_np  \\\n",
       "0    1            Propanolol     1   \n",
       "1    2  Terbutylchlorambucil     1   \n",
       "2    3                 40730     1   \n",
       "3    4                    24     1   \n",
       "4    5           cloxacillin     1   \n",
       "\n",
       "                                              smiles  \n",
       "0                   [Cl].CC(C)NCC(O)COc1cccc2ccccc12  \n",
       "1           C(=O)(OC(C)(C)C)CCCc1ccc(cc1)N(CCCl)CCCl  \n",
       "2  c12c3c(N4CCN(C)CC4)c(F)cc1c(c(C(O)=O)cn2C(C)CO...  \n",
       "3                   C1CCN(CC1)Cc1cccc(c1)OCCCNC(=O)C  \n",
       "4  Cc1onc(c2ccccc2Cl)c1C(=O)N[C@H]3[C@H]4SC(C)(C)...  "
      ]
     },
     "execution_count": 3,
     "metadata": {},
     "output_type": "execute_result"
    }
   ],
   "source": [
    "# read BBBP.csv file\n",
    "df = pd.read_csv('BBBP.csv')\n",
    "df.head()"
   ]
  },
  {
   "cell_type": "code",
   "execution_count": 4,
   "metadata": {},
   "outputs": [
    {
     "name": "stderr",
     "output_type": "stream",
     "text": [
      "[15:47:18] Explicit valence for atom # 1 N, 4, is greater than permitted\n",
      "[15:47:18] WARNING: not removing hydrogen atom without neighbors\n",
      "[15:47:18] Explicit valence for atom # 6 N, 4, is greater than permitted\n",
      "[15:47:18] WARNING: not removing hydrogen atom without neighbors\n",
      "[15:47:19] WARNING: not removing hydrogen atom without neighbors\n",
      "[15:47:19] WARNING: not removing hydrogen atom without neighbors\n",
      "[15:47:19] WARNING: not removing hydrogen atom without neighbors\n",
      "[15:47:19] WARNING: not removing hydrogen atom without neighbors\n",
      "[15:47:19] WARNING: not removing hydrogen atom without neighbors\n",
      "[15:47:19] Explicit valence for atom # 6 N, 4, is greater than permitted\n",
      "[15:47:19] WARNING: not removing hydrogen atom without neighbors\n",
      "[15:47:19] WARNING: not removing hydrogen atom without neighbors\n",
      "[15:47:19] WARNING: not removing hydrogen atom without neighbors\n",
      "[15:47:19] WARNING: not removing hydrogen atom without neighbors\n",
      "[15:47:19] Explicit valence for atom # 11 N, 4, is greater than permitted\n",
      "[15:47:19] Explicit valence for atom # 12 N, 4, is greater than permitted\n",
      "[15:47:19] Explicit valence for atom # 5 N, 4, is greater than permitted\n",
      "[15:47:19] Explicit valence for atom # 5 N, 4, is greater than permitted\n",
      "[15:47:19] Explicit valence for atom # 5 N, 4, is greater than permitted\n",
      "[15:47:19] Explicit valence for atom # 5 N, 4, is greater than permitted\n",
      "[15:47:19] Explicit valence for atom # 5 N, 4, is greater than permitted\n",
      "[15:47:19] WARNING: not removing hydrogen atom without neighbors\n",
      "[15:47:19] WARNING: not removing hydrogen atom without neighbors\n",
      "[15:47:19] Explicit valence for atom # 5 N, 4, is greater than permitted\n",
      "[15:47:19] WARNING: not removing hydrogen atom without neighbors\n",
      "[15:47:19] WARNING: not removing hydrogen atom without neighbors\n",
      "[15:47:19] WARNING: not removing hydrogen atom without neighbors\n",
      "[15:47:19] WARNING: not removing hydrogen atom without neighbors\n",
      "[15:47:19] WARNING: not removing hydrogen atom without neighbors\n",
      "[15:47:19] WARNING: not removing hydrogen atom without neighbors\n",
      "[15:47:19] WARNING: not removing hydrogen atom without neighbors\n",
      "[15:47:19] WARNING: not removing hydrogen atom without neighbors\n",
      "[15:47:19] WARNING: not removing hydrogen atom without neighbors\n",
      "[15:47:19] WARNING: not removing hydrogen atom without neighbors\n",
      "[15:47:19] WARNING: not removing hydrogen atom without neighbors\n",
      "[15:47:19] WARNING: not removing hydrogen atom without neighbors\n",
      "[15:47:19] WARNING: not removing hydrogen atom without neighbors\n",
      "[15:47:19] WARNING: not removing hydrogen atom without neighbors\n",
      "[15:47:19] WARNING: not removing hydrogen atom without neighbors\n",
      "[15:47:19] WARNING: not removing hydrogen atom without neighbors\n",
      "[15:47:19] WARNING: not removing hydrogen atom without neighbors\n",
      "[15:47:19] WARNING: not removing hydrogen atom without neighbors\n",
      "[15:47:19] WARNING: not removing hydrogen atom without neighbors\n",
      "[15:47:19] WARNING: not removing hydrogen atom without neighbors\n",
      "[15:47:19] WARNING: not removing hydrogen atom without neighbors\n",
      "[15:47:19] WARNING: not removing hydrogen atom without neighbors\n",
      "[15:47:19] WARNING: not removing hydrogen atom without neighbors\n",
      "[15:47:19] WARNING: not removing hydrogen atom without neighbors\n",
      "[15:47:19] WARNING: not removing hydrogen atom without neighbors\n",
      "[15:47:19] WARNING: not removing hydrogen atom without neighbors\n",
      "[15:47:19] WARNING: not removing hydrogen atom without neighbors\n"
     ]
    }
   ],
   "source": [
    "# define function to calculate morgan fingerprints\n",
    "Morgan_fpts = []\n",
    "p_np = []\n",
    "for i in range(len(df)):\n",
    "    mol = Chem.MolFromSmiles(df['smiles'][i])\n",
    "    if mol != None:\n",
    "        Morgan_fpts.append(AllChem.GetMorganFingerprintAsBitVect(mol, 2, nBits=1024))\n",
    "        p_np.append(df['p_np'][i])"
   ]
  },
  {
   "cell_type": "code",
   "execution_count": 5,
   "metadata": {},
   "outputs": [],
   "source": [
    "# convert fingerprints to numpy array\n",
    "Morgan_fpts = np.array(Morgan_fpts)\n",
    "\n",
    "# convert p_np to numpy array\n",
    "p_np = np.array(p_np)"
   ]
  },
  {
   "cell_type": "code",
   "execution_count": 6,
   "metadata": {},
   "outputs": [
    {
     "name": "stdout",
     "output_type": "stream",
     "text": [
      "Defaulting to user installation because normal site-packages is not writeable\n",
      "Requirement already satisfied: torch in /home/ac7407/.local/lib/python3.8/site-packages (2.0.0)\n",
      "Requirement already satisfied: jinja2 in /share/apps/python/3.8.6/intel/lib/python3.8/site-packages (from torch) (2.11.2)\n",
      "Requirement already satisfied: sympy in /home/ac7407/.local/lib/python3.8/site-packages (from torch) (1.11.1)\n",
      "Requirement already satisfied: nvidia-cudnn-cu11==8.5.0.96; platform_system == \"Linux\" and platform_machine == \"x86_64\" in /home/ac7407/.local/lib/python3.8/site-packages (from torch) (8.5.0.96)\n",
      "Requirement already satisfied: nvidia-cufft-cu11==10.9.0.58; platform_system == \"Linux\" and platform_machine == \"x86_64\" in /home/ac7407/.local/lib/python3.8/site-packages (from torch) (10.9.0.58)\n",
      "Requirement already satisfied: filelock in /share/apps/python/3.8.6/intel/lib/python3.8/site-packages (from torch) (3.0.12)\n",
      "Requirement already satisfied: nvidia-cuda-nvrtc-cu11==11.7.99; platform_system == \"Linux\" and platform_machine == \"x86_64\" in /home/ac7407/.local/lib/python3.8/site-packages (from torch) (11.7.99)\n",
      "Requirement already satisfied: nvidia-cuda-cupti-cu11==11.7.101; platform_system == \"Linux\" and platform_machine == \"x86_64\" in /home/ac7407/.local/lib/python3.8/site-packages (from torch) (11.7.101)\n",
      "Requirement already satisfied: nvidia-cublas-cu11==11.10.3.66; platform_system == \"Linux\" and platform_machine == \"x86_64\" in /home/ac7407/.local/lib/python3.8/site-packages (from torch) (11.10.3.66)\n",
      "Requirement already satisfied: nvidia-cusolver-cu11==11.4.0.1; platform_system == \"Linux\" and platform_machine == \"x86_64\" in /home/ac7407/.local/lib/python3.8/site-packages (from torch) (11.4.0.1)\n",
      "Requirement already satisfied: nvidia-cusparse-cu11==11.7.4.91; platform_system == \"Linux\" and platform_machine == \"x86_64\" in /home/ac7407/.local/lib/python3.8/site-packages (from torch) (11.7.4.91)\n",
      "Requirement already satisfied: nvidia-nccl-cu11==2.14.3; platform_system == \"Linux\" and platform_machine == \"x86_64\" in /home/ac7407/.local/lib/python3.8/site-packages (from torch) (2.14.3)\n",
      "Requirement already satisfied: networkx in /home/ac7407/.local/lib/python3.8/site-packages (from torch) (3.0)\n",
      "Requirement already satisfied: triton==2.0.0; platform_system == \"Linux\" and platform_machine == \"x86_64\" in /home/ac7407/.local/lib/python3.8/site-packages (from torch) (2.0.0)\n",
      "Requirement already satisfied: nvidia-cuda-runtime-cu11==11.7.99; platform_system == \"Linux\" and platform_machine == \"x86_64\" in /home/ac7407/.local/lib/python3.8/site-packages (from torch) (11.7.99)\n",
      "Requirement already satisfied: nvidia-curand-cu11==10.2.10.91; platform_system == \"Linux\" and platform_machine == \"x86_64\" in /home/ac7407/.local/lib/python3.8/site-packages (from torch) (10.2.10.91)\n",
      "Requirement already satisfied: typing-extensions in /home/ac7407/.local/lib/python3.8/site-packages (from torch) (4.5.0)\n",
      "Requirement already satisfied: nvidia-nvtx-cu11==11.7.91; platform_system == \"Linux\" and platform_machine == \"x86_64\" in /home/ac7407/.local/lib/python3.8/site-packages (from torch) (11.7.91)\n",
      "Requirement already satisfied: MarkupSafe>=0.23 in /share/apps/python/3.8.6/intel/lib/python3.8/site-packages (from jinja2->torch) (1.1.1)\n",
      "Requirement already satisfied: mpmath>=0.19 in /home/ac7407/.local/lib/python3.8/site-packages (from sympy->torch) (1.3.0)\n",
      "Requirement already satisfied: wheel in /share/apps/python/3.8.6/intel/lib/python3.8/site-packages (from nvidia-cuda-cupti-cu11==11.7.101; platform_system == \"Linux\" and platform_machine == \"x86_64\"->torch) (0.35.1)\n",
      "Requirement already satisfied: setuptools in /share/apps/python/3.8.6/intel/lib/python3.8/site-packages (from nvidia-cuda-cupti-cu11==11.7.101; platform_system == \"Linux\" and platform_machine == \"x86_64\"->torch) (49.2.1)\n",
      "Requirement already satisfied: cmake in /home/ac7407/.local/lib/python3.8/site-packages (from triton==2.0.0; platform_system == \"Linux\" and platform_machine == \"x86_64\"->torch) (3.26.1)\n",
      "Requirement already satisfied: lit in /home/ac7407/.local/lib/python3.8/site-packages (from triton==2.0.0; platform_system == \"Linux\" and platform_machine == \"x86_64\"->torch) (16.0.0)\n",
      "\u001b[33mWARNING: You are using pip version 20.2.3; however, version 23.0.1 is available.\n",
      "You should consider upgrading via the '/share/apps/python/3.8.6/intel/bin/python -m pip install --upgrade pip' command.\u001b[0m\n"
     ]
    }
   ],
   "source": [
    "# develop and train neural network using the morgan fingerprints\n",
    "!pip install torch"
   ]
  },
  {
   "cell_type": "code",
   "execution_count": 7,
   "metadata": {},
   "outputs": [],
   "source": [
    "import torch\n",
    "import torch.nn as nn\n",
    "import torch.nn.functional as F\n",
    "import torch.optim as optim"
   ]
  },
  {
   "cell_type": "code",
   "execution_count": 8,
   "metadata": {},
   "outputs": [],
   "source": [
    "# standardize the features\n",
    "from torch.utils.data import TensorDataset\n",
    "from torch.utils.data import DataLoader\n",
    "\n",
    "X_train_norm = (Morgan_fpts - np.mean(Morgan_fpts, axis=0)) / np.std(Morgan_fpts, axis=0)\n",
    "X_train_norm = torch.from_numpy(X_train_norm)\n",
    "y_train = torch.from_numpy(p_np)\n",
    "train_ds = TensorDataset(X_train_norm, y_train)\n",
    "batch_size = 1\n",
    "train_dl = DataLoader(train_ds, batch_size, shuffle=True)"
   ]
  },
  {
   "cell_type": "code",
   "execution_count": 9,
   "metadata": {},
   "outputs": [],
   "source": [
    "# split data into train, valid, and test sets\n",
    "from sklearn.model_selection import train_test_split\n",
    "\n",
    "X_train, X_test, y_train, y_test = train_test_split(Morgan_fpts, p_np, test_size=1./3, random_state=1)"
   ]
  },
  {
   "cell_type": "code",
   "execution_count": 10,
   "metadata": {},
   "outputs": [
    {
     "name": "stdout",
     "output_type": "stream",
     "text": [
      "Training set size:  1359\n",
      "Test set size:  680\n"
     ]
    }
   ],
   "source": [
    "# print length of each set\n",
    "print(\"Training set size: \", len(X_train))\n",
    "print(\"Test set size: \", len(X_test))"
   ]
  },
  {
   "cell_type": "code",
   "execution_count": 11,
   "metadata": {},
   "outputs": [],
   "source": [
    "# construct neural network \n",
    "# use morgan fingerprints as input and accuracy as performance metric\n",
    "# use sigmoid activation function\n",
    "class Net(nn.Module):\n",
    "    def __init__(self, input_size, hidden_size, output_size):\n",
    "        super(Net, self).__init__()\n",
    "        self.fc1 = nn.Linear(input_size, hidden_size)\n",
    "        self.fc2 = nn.Linear(hidden_size, hidden_size)\n",
    "        self.fc3 = nn.Linear(hidden_size, output_size)\n",
    "        self.sigmoid = nn.ReLU()\n",
    "    def forward(self, x):\n",
    "        x = self.fc1(x)\n",
    "        x = self.sigmoid(x)\n",
    "        x = self.fc2(x)\n",
    "        return x"
   ]
  },
  {
   "cell_type": "code",
   "execution_count": 12,
   "metadata": {},
   "outputs": [],
   "source": [
    "input_size = X_train_norm.shape[1]\n",
    "hidden_size = 32\n",
    "output_size = 3\n",
    "model = Net(input_size, hidden_size, output_size)"
   ]
  },
  {
   "cell_type": "code",
   "execution_count": 13,
   "metadata": {},
   "outputs": [],
   "source": [
    "# use binary cross-entropy as loss function\n",
    "# use Adam optimizer\n",
    "loss_fn = nn.CrossEntropyLoss()\n",
    "optimizer = optim.Adam(model.parameters(), lr=0.001)"
   ]
  },
  {
   "cell_type": "code",
   "execution_count": 14,
   "metadata": {},
   "outputs": [
    {
     "name": "stdout",
     "output_type": "stream",
     "text": [
      "Epoch:  0 Loss:  0.008580365218222141\n",
      "Epoch:  1 Loss:  0.0010992205934599042\n",
      "Epoch:  2 Loss:  0.0014381790533661842\n",
      "Epoch:  3 Loss:  4.887569048150908e-06\n",
      "Epoch:  4 Loss:  5.769562994828448e-05\n",
      "Epoch:  5 Loss:  1.2636104656849056e-05\n",
      "Epoch:  6 Loss:  5.960462772236497e-07\n",
      "Epoch:  7 Loss:  1.0490362910786644e-05\n",
      "Epoch:  8 Loss:  0.016138164326548576\n",
      "Epoch:  9 Loss:  0.0\n"
     ]
    }
   ],
   "source": [
    "# train model using training set\n",
    "epochs = 10\n",
    "losses = []\n",
    "for epoch in range(epochs):\n",
    "    for batch in train_dl:\n",
    "        X_train, y_train = batch\n",
    "        optimizer.zero_grad()\n",
    "        y_pred = model(X_train.float())\n",
    "        loss = loss_fn(y_pred, y_train.long())\n",
    "        loss.backward()\n",
    "        optimizer.step()\n",
    "    losses.append(loss.item())\n",
    "    print(\"Epoch: \", epoch, \"Loss: \", loss.item())"
   ]
  },
  {
   "cell_type": "code",
   "execution_count": 15,
   "metadata": {},
   "outputs": [
    {
     "data": {
      "image/png": "[encoded data removed]",
      "text/plain": [
       "<Figure size 432x288 with 1 Axes>"
      ]
     },
     "metadata": {
      "needs_background": "light"
     },
     "output_type": "display_data"
    }
   ],
   "source": [
    "# plot loss vs. epoch\n",
    "plt.plot(losses)\n",
    "plt.xlabel('Epoch')\n",
    "plt.ylabel('Loss')\n",
    "plt.title('Cross Entropy Loss vs. Epoch')\n",
    "plt.show()"
   ]
  },
  {
   "cell_type": "code",
   "execution_count": 16,
   "metadata": {},
   "outputs": [
    {
     "name": "stdout",
     "output_type": "stream",
     "text": [
      "Accuracy:  98.92103972535557 %\n"
     ]
    }
   ],
   "source": [
    "# print accuracy score\n",
    "from sklearn.metrics import accuracy_score\n",
    "\n",
    "y_pred = model(X_train_norm.float())\n",
    "y_pred = y_pred.detach().numpy()\n",
    "y_pred = np.argmax(y_pred, axis=1)\n",
    "print(\"Accuracy: \", accuracy_score(p_np, y_pred)*100, '%')"
   ]
  },
  {
   "cell_type": "code",
   "execution_count": 17,
   "metadata": {},
   "outputs": [],
   "source": [
    "# create a neural network with 4 hidden layers\n",
    "class Net(nn.Module):\n",
    "    def __init__(self, input_size, hidden_size, output_size):\n",
    "        super(Net, self).__init__()\n",
    "        self.fc1 = nn.Linear(input_size, hidden_size)\n",
    "        self.fc2 = nn.Linear(hidden_size, hidden_size)\n",
    "        self.fc3 = nn.Linear(hidden_size, hidden_size)\n",
    "        self.fc4 = nn.Linear(hidden_size, hidden_size)\n",
    "        self.fc5 = nn.Linear(hidden_size, output_size)\n",
    "        self.sigmoid = nn.ReLU()\n",
    "    def forward(self, x):\n",
    "        x = self.fc1(x)\n",
    "        x = self.sigmoid(x)\n",
    "        x = self.fc2(x)\n",
    "        x = self.sigmoid(x)\n",
    "        x = self.fc3(x)\n",
    "        x = self.sigmoid(x)\n",
    "        x = self.fc4(x)\n",
    "        x = self.sigmoid(x)\n",
    "        x = self.fc5(x)\n",
    "        return x"
   ]
  },
  {
   "cell_type": "code",
   "execution_count": 18,
   "metadata": {},
   "outputs": [],
   "source": [
    "input_size = X_train_norm.shape[1]\n",
    "hidden_size = 64\n",
    "output_size = 3\n",
    "model = Net(input_size, hidden_size, output_size)"
   ]
  },
  {
   "cell_type": "code",
   "execution_count": 19,
   "metadata": {},
   "outputs": [],
   "source": [
    "# use binary cross-entropy as loss function\n",
    "# use Adam optimizer\n",
    "loss_fn = nn.CrossEntropyLoss()\n",
    "optimizer = optim.Adam(model.parameters(), lr=0.001)"
   ]
  },
  {
   "cell_type": "code",
   "execution_count": 20,
   "metadata": {},
   "outputs": [
    {
     "name": "stdout",
     "output_type": "stream",
     "text": [
      "Epoch:  0 Loss:  0.07308977842330933\n",
      "Epoch:  1 Loss:  0.005136388819664717\n",
      "Epoch:  2 Loss:  0.03608434274792671\n",
      "Epoch:  3 Loss:  0.4967205822467804\n",
      "Epoch:  4 Loss:  8.225102646974847e-05\n",
      "Epoch:  5 Loss:  0.0002892790944315493\n",
      "Epoch:  6 Loss:  0.0101386783644557\n",
      "Epoch:  7 Loss:  0.0\n",
      "Epoch:  8 Loss:  6.103329360485077e-05\n",
      "Epoch:  9 Loss:  1.5497195136049413e-06\n"
     ]
    }
   ],
   "source": [
    "# train model using training set\n",
    "epochs = 10\n",
    "losses = []\n",
    "for epoch in range(epochs):\n",
    "    for batch in train_dl:\n",
    "        X_train, y_train = batch\n",
    "        optimizer.zero_grad()\n",
    "        y_pred = model(X_train.float())\n",
    "        loss = loss_fn(y_pred, y_train.long())\n",
    "        loss.backward()\n",
    "        optimizer.step()\n",
    "    losses.append(loss.item())\n",
    "    print(\"Epoch: \", epoch, \"Loss: \", loss.item())"
   ]
  },
  {
   "cell_type": "code",
   "execution_count": 21,
   "metadata": {},
   "outputs": [
    {
     "data": {
      "image/png": "[encoded data removed]",
      "text/plain": [
       "<Figure size 432x288 with 1 Axes>"
      ]
     },
     "metadata": {
      "needs_background": "light"
     },
     "output_type": "display_data"
    }
   ],
   "source": [
    "# plot loss vs. epoch\n",
    "plt.plot(losses)\n",
    "plt.xlabel('Epoch')\n",
    "plt.ylabel('Loss')\n",
    "plt.title('Cross Entropy Loss vs. Epoch')\n",
    "plt.show()"
   ]
  },
  {
   "cell_type": "code",
   "execution_count": 22,
   "metadata": {},
   "outputs": [
    {
     "name": "stdout",
     "output_type": "stream",
     "text": [
      "Accuracy:  98.62677783227072 %\n"
     ]
    }
   ],
   "source": [
    "# print accuracy score\n",
    "y_pred = model(X_train_norm.float())\n",
    "y_pred = y_pred.detach().numpy()\n",
    "y_pred = np.argmax(y_pred, axis=1)\n",
    "print(\"Accuracy: \", accuracy_score(p_np, y_pred)*100, '%')"
   ]
  },
  {
   "cell_type": "code",
   "execution_count": 23,
   "metadata": {},
   "outputs": [],
   "source": [
    "# create a neural network with 2 hidden layers\n",
    "class Net(nn.Module):\n",
    "    def __init__(self, input_size, hidden_size, output_size):\n",
    "        super(Net, self).__init__()\n",
    "        self.fc1 = nn.Linear(input_size, hidden_size)\n",
    "        self.fc2 = nn.Linear(hidden_size, output_size)\n",
    "        self.sigmoid = nn.ReLU()\n",
    "    def forward(self, x):\n",
    "        x = self.fc1(x)\n",
    "        x = self.sigmoid(x)\n",
    "        x = self.fc2(x)\n",
    "        return x"
   ]
  },
  {
   "cell_type": "code",
   "execution_count": 24,
   "metadata": {},
   "outputs": [],
   "source": [
    "input_size = X_train_norm.shape[1]\n",
    "hidden_size = 64\n",
    "output_size = 3\n",
    "model = Net(input_size, hidden_size, output_size)"
   ]
  },
  {
   "cell_type": "code",
   "execution_count": 25,
   "metadata": {},
   "outputs": [],
   "source": [
    "# use binary cross-entropy as loss function\n",
    "# use Adam optimizer but increase learning rate to 0.01\n",
    "loss_fn = nn.CrossEntropyLoss()\n",
    "optimizer = optim.Adam(model.parameters(), lr=0.01)"
   ]
  },
  {
   "cell_type": "code",
   "execution_count": 26,
   "metadata": {},
   "outputs": [
    {
     "name": "stdout",
     "output_type": "stream",
     "text": [
      "Epoch:  0 Loss:  28.704557418823242\n",
      "Epoch:  1 Loss:  0.8325273394584656\n",
      "Epoch:  2 Loss:  0.7107309103012085\n",
      "Epoch:  3 Loss:  0.0\n",
      "Epoch:  4 Loss:  0.0\n",
      "Epoch:  5 Loss:  0.0\n",
      "Epoch:  6 Loss:  0.0\n",
      "Epoch:  7 Loss:  0.0\n",
      "Epoch:  8 Loss:  0.0\n",
      "Epoch:  9 Loss:  0.0\n"
     ]
    }
   ],
   "source": [
    "# train model using training set\n",
    "epochs = 10\n",
    "losses = []\n",
    "for epoch in range(epochs):\n",
    "    for batch in train_dl:\n",
    "        X_train, y_train = batch\n",
    "        optimizer.zero_grad()\n",
    "        y_pred = model(X_train.float())\n",
    "        loss = loss_fn(y_pred, y_train.long())\n",
    "        loss.backward()\n",
    "        optimizer.step()\n",
    "    losses.append(loss.item())\n",
    "    print(\"Epoch: \", epoch, \"Loss: \", loss.item())"
   ]
  },
  {
   "cell_type": "code",
   "execution_count": 27,
   "metadata": {},
   "outputs": [
    {
     "data": {
      "image/png": "[encoded data removed]",
      "text/plain": [
       "<Figure size 432x288 with 1 Axes>"
      ]
     },
     "metadata": {
      "needs_background": "light"
     },
     "output_type": "display_data"
    }
   ],
   "source": [
    "# plot loss vs. epoch\n",
    "plt.plot(losses)\n",
    "plt.xlabel('Epoch')\n",
    "plt.ylabel('Loss')\n",
    "plt.title('Cross Entropy Loss vs. Epoch')\n",
    "plt.show()"
   ]
  },
  {
   "cell_type": "code",
   "execution_count": 28,
   "metadata": {},
   "outputs": [
    {
     "name": "stdout",
     "output_type": "stream",
     "text": [
      "Accuracy:  93.7224129475233 %\n"
     ]
    }
   ],
   "source": [
    "# print accuracy score\n",
    "y_pred = model(X_train_norm.float())\n",
    "y_pred = y_pred.detach().numpy()\n",
    "y_pred = np.argmax(y_pred, axis=1)\n",
    "print(\"Accuracy: \", accuracy_score(p_np, y_pred)*100, '%')"
   ]
  },
  {
   "cell_type": "markdown",
   "metadata": {},
   "source": [
    "# It appears that increasing learning rate once again decreases the accuracy. This is because when the learning rate is increased, it may cause the optimization algorithm to overshoot the optimal weights/biases. Thus, it may be possible that the algorithm may miss the local minimum or even diverge because of larger steps taken."
   ]
  },
  {
   "cell_type": "code",
   "execution_count": 29,
   "metadata": {},
   "outputs": [
    {
     "name": "stdout",
     "output_type": "stream",
     "text": [
      "Epoch:  0 Loss:  0.17592987418174744\n",
      "Epoch:  1 Loss:  0.1562422215938568\n",
      "Epoch:  2 Loss:  0.13905221223831177\n",
      "Epoch:  3 Loss:  0.0157676599919796\n",
      "Epoch:  4 Loss:  0.016667403280735016\n",
      "Epoch:  5 Loss:  0.02433943562209606\n",
      "Epoch:  6 Loss:  0.006933912634849548\n",
      "Epoch:  7 Loss:  0.04385199025273323\n",
      "Epoch:  8 Loss:  0.02616342157125473\n",
      "Epoch:  9 Loss:  0.017542092129588127\n"
     ]
    }
   ],
   "source": [
    "# create a neural network with 3 hidden layers\n",
    "class Net(nn.Module):\n",
    "    def __init__(self, input_size, hidden_size, output_size):\n",
    "        super(Net, self).__init__()\n",
    "        self.fc1 = nn.Linear(input_size, hidden_size)\n",
    "        self.fc2 = nn.Linear(hidden_size, hidden_size)\n",
    "        self.fc3 = nn.Linear(hidden_size, output_size)\n",
    "        self.sigmoid = nn.Sigmoid()\n",
    "    def forward(self, x):\n",
    "        x = self.fc1(x)\n",
    "        x = self.sigmoid(x)\n",
    "        x = self.fc2(x)\n",
    "        return x\n",
    "    \n",
    "input_size = X_train_norm.shape[1]\n",
    "hidden_size = 32\n",
    "output_size = 3\n",
    "model = Net(input_size, hidden_size, output_size)\n",
    "\n",
    "# use binary cross-entropy as loss function\n",
    "# use Adam optimizer but decrease learning rate to 0.0001\n",
    "loss_fn = nn.CrossEntropyLoss()\n",
    "optimizer = optim.Adam(model.parameters(), lr=0.0001)\n",
    "\n",
    "# train model using training set\n",
    "epochs = 10\n",
    "losses = []\n",
    "for epoch in range(epochs):\n",
    "    for batch in train_dl:\n",
    "        X_train, y_train = batch\n",
    "        optimizer.zero_grad()\n",
    "        y_pred = model(X_train.float())\n",
    "        loss = loss_fn(y_pred, y_train.long())\n",
    "        loss.backward()\n",
    "        optimizer.step()\n",
    "    losses.append(loss.item())\n",
    "    print(\"Epoch: \", epoch, \"Loss: \", loss.item())"
   ]
  },
  {
   "cell_type": "code",
   "execution_count": 30,
   "metadata": {},
   "outputs": [
    {
     "data": {
      "image/png": "[encoded data removed]",
      "text/plain": [
       "<Figure size 432x288 with 1 Axes>"
      ]
     },
     "metadata": {
      "needs_background": "light"
     },
     "output_type": "display_data"
    }
   ],
   "source": [
    "# plot loss vs. epoch\n",
    "plt.plot(losses)\n",
    "plt.xlabel('Epoch')\n",
    "plt.ylabel('Loss')\n",
    "plt.title('Cross Entropy Loss vs. Epoch')\n",
    "plt.show()"
   ]
  },
  {
   "cell_type": "code",
   "execution_count": 31,
   "metadata": {},
   "outputs": [
    {
     "name": "stdout",
     "output_type": "stream",
     "text": [
      "Accuracy:  0.9671407552721922\n"
     ]
    }
   ],
   "source": [
    "# print accuracy score\n",
    "y_pred = model(X_train_norm.float())\n",
    "y_pred = y_pred.detach().numpy()\n",
    "y_pred = np.argmax(y_pred, axis=1)\n",
    "print(\"Accuracy: \", accuracy_score(p_np, y_pred))"
   ]
  },
  {
   "cell_type": "markdown",
   "metadata": {},
   "source": [
    "# Decreasing the learning rate to 0.0001 performs better than 0.01 but still slightly worse than if the learning rate was set to 0.001. This may be due to the fact that if the learning rate is too slow, the algorithm may get stuck at a local minimum, preventing it from finding the most optimal solution.\n",
    "\n",
    "# Based on the results, the best learning rate for this binary classification problem would be lr=0.001."
   ]
  },
  {
   "cell_type": "code",
   "execution_count": 34,
   "metadata": {},
   "outputs": [
    {
     "name": "stdout",
     "output_type": "stream",
     "text": [
      "Accuracy:  0.5\n"
     ]
    }
   ],
   "source": [
    "# compare with random forest model\n",
    "from sklearn.ensemble import RandomForestClassifier\n",
    "from sklearn.metrics import roc_auc_score\n",
    "\n",
    "rf = RandomForestClassifier(n_estimators=100, max_depth=10, random_state=1)\n",
    "rf.fit(X_train, y_train)\n",
    "pred_test = rf.predict(X_test)\n",
    "print('Accuracy: ', roc_auc_score(y_test, pred_test))"
   ]
  },
  {
   "cell_type": "markdown",
   "metadata": {},
   "source": [
    "# As seen from above, when using a random forest classifier, the neural network performs significantly better."
   ]
  }
 ],
 "metadata": {
  "kernelspec": {
   "display_name": "Python 3",
   "language": "python",
   "name": "python3"
  },
  "language_info": {
   "codemirror_mode": {
    "name": "ipython",
    "version": 3
   },
   "file_extension": ".py",
   "mimetype": "text/x-python",
   "name": "python",
   "nbconvert_exporter": "python",
   "pygments_lexer": "ipython3",
   "version": "3.8.6"
  }
 },
 "nbformat": 4,
 "nbformat_minor": 4
}
